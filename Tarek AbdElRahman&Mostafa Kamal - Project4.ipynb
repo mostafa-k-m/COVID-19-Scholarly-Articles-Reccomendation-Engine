{
 "cells": [
  {
   "cell_type": "code",
   "execution_count": 1,
   "metadata": {},
   "outputs": [],
   "source": [
    "import os\n",
    "os.environ[\"JAVA_HOME\"] = \"/usr/lib64/jvm/jre-1.8.0-openjdk\"\n",
    "from pyspark.sql import SparkSession\n",
    "home =  os.path.expanduser(\"~\")\n",
    "spark = SparkSession \\\n",
    "    .builder \\\n",
    "    .appName(\"Project4 - COVID-19\") \\\n",
    "    .config(\"spark.driver.memory\", \"15g\") \\\n",
    "    .config('spark.driver.maxResultSize', '15g') \\\n",
    "    .getOrCreate()"
   ]
  },
  {
   "cell_type": "markdown",
   "metadata": {},
   "source": [
    "## Step 1: Read the data (the json files and metadata)"
   ]
  },
  {
   "cell_type": "markdown",
   "metadata": {},
   "source": [
    "### Read the metadata file"
   ]
  },
  {
   "cell_type": "code",
   "execution_count": 2,
   "metadata": {},
   "outputs": [],
   "source": [
    "metadata = spark.read\\\n",
    "            .format(\"csv\")\\\n",
    "            .option(\"header\", \"true\")\\\n",
    "            .load(home+\"/Dataset/metadata.csv\")"
   ]
  },
  {
   "cell_type": "markdown",
   "metadata": {},
   "source": [
    "### We begin by randomly sampling 10,000 papers from the pdf_json folder. We can do this through the following linux command, utilizing the `shuf` command\n",
    "`~  shuf -zn10000 -e document_parses/pdf_json/* | xargs -0 cp -vt random_sample/`"
   ]
  },
  {
   "cell_type": "markdown",
   "metadata": {},
   "source": [
    "### Read the sample"
   ]
  },
  {
   "cell_type": "code",
   "execution_count": 3,
   "metadata": {},
   "outputs": [],
   "source": [
    "papers = spark.read\\\n",
    "            .format(\"json\")\\\n",
    "            .option(\"multiLine\", \"true\")\\\n",
    "            .load(home+\"/Dataset/random_sample/\")"
   ]
  },
  {
   "cell_type": "markdown",
   "metadata": {},
   "source": [
    "## Step 2: Explore the data"
   ]
  },
  {
   "cell_type": "markdown",
   "metadata": {},
   "source": [
    "### From the metadata exploration we found that many columns has nulls and some are only nulls"
   ]
  },
  {
   "cell_type": "code",
   "execution_count": 4,
   "metadata": {},
   "outputs": [
    {
     "name": "stdout",
     "output_type": "stream",
     "text": [
      "root\n",
      " |-- cord_uid: string (nullable = true)\n",
      " |-- sha: string (nullable = true)\n",
      " |-- source_x: string (nullable = true)\n",
      " |-- title: string (nullable = true)\n",
      " |-- doi: string (nullable = true)\n",
      " |-- pmcid: string (nullable = true)\n",
      " |-- pubmed_id: string (nullable = true)\n",
      " |-- license: string (nullable = true)\n",
      " |-- abstract: string (nullable = true)\n",
      " |-- publish_time: string (nullable = true)\n",
      " |-- authors: string (nullable = true)\n",
      " |-- journal: string (nullable = true)\n",
      " |-- mag_id: string (nullable = true)\n",
      " |-- who_covidence_id: string (nullable = true)\n",
      " |-- arxiv_id: string (nullable = true)\n",
      " |-- pdf_json_files: string (nullable = true)\n",
      " |-- pmc_json_files: string (nullable = true)\n",
      " |-- url: string (nullable = true)\n",
      " |-- s2_id: string (nullable = true)\n",
      "\n"
     ]
    }
   ],
   "source": [
    "metadata.printSchema()"
   ]
  },
  {
   "cell_type": "code",
   "execution_count": 5,
   "metadata": {},
   "outputs": [
    {
     "name": "stdout",
     "output_type": "stream",
     "text": [
      "+--------+--------------------+--------+--------------------+--------------------+--------+---------+-------+--------------------+------------+--------------------+--------------+------+----------------+--------+--------------------+--------------------+--------------------+-----+\n",
      "|cord_uid|                 sha|source_x|               title|                 doi|   pmcid|pubmed_id|license|            abstract|publish_time|             authors|       journal|mag_id|who_covidence_id|arxiv_id|      pdf_json_files|      pmc_json_files|                 url|s2_id|\n",
      "+--------+--------------------+--------+--------------------+--------------------+--------+---------+-------+--------------------+------------+--------------------+--------------+------+----------------+--------+--------------------+--------------------+--------------------+-----+\n",
      "|ug7v899j|d1aafb70c066a2068...|     PMC|Clinical features...|10.1186/1471-2334...|PMC35282| 11472636|  no-cc|OBJECTIVE: This r...|  2001-07-04|Madani, Tariq A; ...|BMC Infect Dis|  null|            null|    null|document_parses/p...|document_parses/p...|https://www.ncbi....| null|\n",
      "|02tnwd4m|6b0567729c2143a66...|     PMC|Nitric oxide: a p...|        10.1186/rr14|PMC59543| 11667967|  no-cc|Inflammatory dise...|  2000-08-15|Vliet, Albert van...|    Respir Res|  null|            null|    null|document_parses/p...|document_parses/p...|https://www.ncbi....| null|\n",
      "|ejv2xln0|06ced00a5fc042159...|     PMC|Surfactant protei...|        10.1186/rr19|PMC59549| 11667972|  no-cc|Surfactant protei...|  2000-08-25|     Crouch, Erika C|    Respir Res|  null|            null|    null|document_parses/p...|document_parses/p...|https://www.ncbi....| null|\n",
      "|2b73a28n|348055649b6b8cf2b...|     PMC|Role of endotheli...|        10.1186/rr44|PMC59574| 11686871|  no-cc|Endothelin-1 (ET-...|  2001-02-22|Fagan, Karen A; M...|    Respir Res|  null|            null|    null|document_parses/p...|document_parses/p...|https://www.ncbi....| null|\n",
      "|9785vg6d|5f48792a5fa08bed9...|     PMC|Gene expression i...|        10.1186/rr61|PMC59580| 11686888|  no-cc|Respiratory syncy...|  2001-05-11|Domachowske, Jose...|    Respir Res|  null|            null|    null|document_parses/p...|document_parses/p...|https://www.ncbi....| null|\n",
      "+--------+--------------------+--------+--------------------+--------------------+--------+---------+-------+--------------------+------------+--------------------+--------------+------+----------------+--------+--------------------+--------------------+--------------------+-----+\n",
      "only showing top 5 rows\n",
      "\n"
     ]
    }
   ],
   "source": [
    "metadata.show(5)"
   ]
  },
  {
   "cell_type": "code",
   "execution_count": 6,
   "metadata": {},
   "outputs": [
    {
     "name": "stdout",
     "output_type": "stream",
     "text": [
      "+--------+-----+--------+-----+-----+-----+---------+-------+--------+------------+-------+-------+------+----------------+--------+--------------+--------------+-----+-----+\n",
      "|cord_uid|  sha|source_x|title|  doi|pmcid|pubmed_id|license|abstract|publish_time|authors|journal|mag_id|who_covidence_id|arxiv_id|pdf_json_files|pmc_json_files|  url|s2_id|\n",
      "+--------+-----+--------+-----+-----+-----+---------+-------+--------+------------+-------+-------+------+----------------+--------+--------------+--------------+-----+-----+\n",
      "|       0|77267|       0|   30|29459|71159|    32790|     41|   29300|          44|   4995|   6651|133300|          113503|  132417|         75636|         87526|11453|28314|\n",
      "+--------+-----+--------+-----+-----+-----+---------+-------+--------+------------+-------+-------+------+----------------+--------+--------------+--------------+-----+-----+\n",
      "\n"
     ]
    }
   ],
   "source": [
    "from pyspark.sql.functions import isnan, when, count, col\n",
    "\n",
    "metadata.select([count(when(isnan(c) | col(c).isNull(), c)).alias(c) for c in metadata.columns]).show()"
   ]
  },
  {
   "cell_type": "markdown",
   "metadata": {},
   "source": [
    "### The json files schema is available in the dataset where we found all the info we need"
   ]
  },
  {
   "cell_type": "code",
   "execution_count": 7,
   "metadata": {},
   "outputs": [
    {
     "name": "stdout",
     "output_type": "stream",
     "text": [
      "+--------------------+--------------------+--------------------+--------------------+--------------------+--------------------+--------------------+\n",
      "|            abstract|         back_matter|         bib_entries|           body_text|            metadata|            paper_id|         ref_entries|\n",
      "+--------------------+--------------------+--------------------+--------------------+--------------------+--------------------+--------------------+\n",
      "|                  []|[[[[48,, 44, 3.37...|[, [[[H, Adams, [...|[[[], [[79, TABRE...|[[[[,,], , , Bert...|2b1cbb43a4f06e232...|[[, Chest Wall Th...|\n",
      "|[[[], [], Abstrac...|[[[], [], acknowl...|[[[], , [,,,], , ...|[[[[1203,, 1200, ...|[[[[,,], , ;, Bey...|c9f4a4df803f6496b...|[[, Figure 2, fig...|\n",
      "|                  []|[[[[1609,, 1586, ...|[[[[T, Aaberg, [M...|[[[[505,, 497, Ka...|              [[], ]|5c6c26e79c0824645...|[,, [, Technische...|\n",
      "|                  []|[[[], [], annex, ...|[[[[Organizationa...|[[[], [], , LEARN...|[[[[University of...|38c0691ee76fb1e66...|[[, A 40 YEAR OLD...|\n",
      "|                  []|[[[], [], acknowl...|[[[], , [,,,], , ...|[[[[234,, 231, (1...|[[[[,,], , C, Dob...|67c8d389c28ceef26...|[[, (containing P...|\n",
      "|                  []|                  []|[[[], , [,,,], , ...|[[[[24,, 19, July...|              [[], ]|8c93a69ce8eb2ba08...|[[, . 2013;62:540...|\n",
      "|[[[], [], Abstrac...|[[[], [[10,, 1, (...|[[[], , [,,,], , ...|[[[], [], Univers...|[[[[Bloodworks NW...|e3b74d02ad582540a...|[[, BP7: RBC in-v...|\n",
      "|                  []|                  []|[[[[K, Aas, [], ]...|[[[], [], The Imm...|              [[], ]|7e62ae259b327bda2...|[[, Fig.1.2. (Con...|\n",
      "|                  []|[[[], [], acknowl...|[[[[V, Moura, [R]...|[[[[199,, 195, (P...|[[[[,,], , ,, Kra...|a78f60c67c8ac17c7...|[[, Thomas G. Bro...|\n",
      "|[[[], [], Abstrac...|[[[[808, BIBREF33...|[[[[A, Caudy, [A]...|[[[], [], Backgro...|[[[[Academy of Sc...|c60cc22e04f138a79...|[[, Argonaute pro...|\n",
      "+--------------------+--------------------+--------------------+--------------------+--------------------+--------------------+--------------------+\n",
      "only showing top 10 rows\n",
      "\n"
     ]
    }
   ],
   "source": [
    "papers.show(10)"
   ]
  },
  {
   "cell_type": "markdown",
   "metadata": {},
   "source": [
    "## Now we need to process the json files and get the info we need in a simple structured dataframe"
   ]
  },
  {
   "cell_type": "markdown",
   "metadata": {},
   "source": [
    "### Define a function to gather all paragraphs in one text\n",
    "### and gather abstract paragraphs and body paragraphs"
   ]
  },
  {
   "cell_type": "code",
   "execution_count": 8,
   "metadata": {},
   "outputs": [],
   "source": [
    "from pyspark.sql.functions import udf\n",
    "\n",
    "def concatenate_text(j):\n",
    "    txt_all = \"\"\n",
    "    for a in j:\n",
    "        txt_all = txt_all + \" \" + a['text']\n",
    "    return txt_all\n",
    "\n",
    "udf_concatenate_text = udf(concatenate_text)"
   ]
  },
  {
   "cell_type": "code",
   "execution_count": 9,
   "metadata": {},
   "outputs": [],
   "source": [
    "papers = papers.select(papers['Paper_ID'], papers['metadata']['title'], udf_concatenate_text(papers['abstract']), udf_concatenate_text(papers['body_text']))"
   ]
  },
  {
   "cell_type": "code",
   "execution_count": 10,
   "metadata": {},
   "outputs": [
    {
     "name": "stdout",
     "output_type": "stream",
     "text": [
      "root\n",
      " |-- Paper_ID: string (nullable = true)\n",
      " |-- metadata.title: string (nullable = true)\n",
      " |-- concatenate_text(abstract): string (nullable = true)\n",
      " |-- concatenate_text(body_text): string (nullable = true)\n",
      "\n"
     ]
    }
   ],
   "source": [
    "papers.printSchema()"
   ]
  },
  {
   "cell_type": "code",
   "execution_count": 11,
   "metadata": {},
   "outputs": [],
   "source": [
    "papers = papers.withColumnRenamed('metadata.title', 'title')\\\n",
    "        .withColumnRenamed('concatenate_text(abstract)', 'abstract')\\\n",
    "        .withColumnRenamed('concatenate_text(body_text)', 'body')"
   ]
  },
  {
   "cell_type": "code",
   "execution_count": 12,
   "metadata": {},
   "outputs": [
    {
     "name": "stdout",
     "output_type": "stream",
     "text": [
      "+--------------------+--------------------+--------------------+--------------------+\n",
      "|            Paper_ID|               title|            abstract|                body|\n",
      "+--------------------+--------------------+--------------------+--------------------+\n",
      "|2b1cbb43a4f06e232...|Level 3 guideline...|                    | S3-guideline on ...|\n",
      "|c9f4a4df803f6496b...|Physicians Poster...| Background: Prom...| with Thiotepa 5 ...|\n",
      "|5c6c26e79c0824645...|                    |                    | Der Weltgesundhe...|\n",
      "|38c0691ee76fb1e66...|Society of Genera...|                    | LEARNING OBJECTI...|\n",
      "|67c8d389c28ceef26...|        Diedrich (1)|                    | The presence of ...|\n",
      "|8c93a69ce8eb2ba08...|                    |                    | July-December 20...|\n",
      "|e3b74d02ad582540a...|P1-A03A IgG Subty...| Background/Case ...| Background/Case ...|\n",
      "|7e62ae259b327bda2...|                    |                    | Definitions. The...|\n",
      "|a78f60c67c8ac17c7...|Alterations in 14...|                    | Objective: Using...|\n",
      "|c60cc22e04f138a79...|EXTERNAL SCIENTIF...| This report is t...| This report is a...|\n",
      "+--------------------+--------------------+--------------------+--------------------+\n",
      "only showing top 10 rows\n",
      "\n"
     ]
    }
   ],
   "source": [
    "papers.show(10)"
   ]
  },
  {
   "cell_type": "markdown",
   "metadata": {},
   "source": [
    "### Seems that some fields have empty values, let's explore that"
   ]
  },
  {
   "cell_type": "code",
   "execution_count": 13,
   "metadata": {},
   "outputs": [
    {
     "name": "stdout",
     "output_type": "stream",
     "text": [
      "+--------+-----+--------+----+\n",
      "|Paper_ID|title|abstract|body|\n",
      "+--------+-----+--------+----+\n",
      "|       0| 1060|    2927|   0|\n",
      "+--------+-----+--------+----+\n",
      "\n"
     ]
    }
   ],
   "source": [
    "from pyspark.sql.functions import isnan, when, count, col\n",
    "\n",
    "papers.select([count(when(col(c) == \"\", c)).alias(c) for c in papers.columns]).show()"
   ]
  },
  {
   "cell_type": "markdown",
   "metadata": {},
   "source": [
    "## Step 3: Prepare and process the data"
   ]
  },
  {
   "cell_type": "markdown",
   "metadata": {},
   "source": [
    "### Now join the papers dataframe the metadata and get only the columns that we might use as features"
   ]
  },
  {
   "cell_type": "code",
   "execution_count": 14,
   "metadata": {},
   "outputs": [],
   "source": [
    "papers_meta = papers.join(metadata, papers['Paper_ID'] == metadata['sha'], how='left_outer')\\\n",
    "            .select(papers['Paper_ID'], papers['title'], papers['body'], metadata['publish_time'],\\\n",
    "                   metadata['authors'], metadata['journal'])"
   ]
  },
  {
   "cell_type": "code",
   "execution_count": 15,
   "metadata": {},
   "outputs": [],
   "source": [
    "from pyspark.sql.functions import year, month, to_date\n",
    "papers_meta = papers_meta.withColumn(\"publish_Year\", year(to_date(\"publish_time\")))\\\n",
    "                        .withColumn(\"publish_Month\", month(to_date(\"publish_time\")))"
   ]
  },
  {
   "cell_type": "code",
   "execution_count": 16,
   "metadata": {},
   "outputs": [
    {
     "name": "stdout",
     "output_type": "stream",
     "text": [
      "+--------------------+--------------------+--------------------+------------+--------------------+--------------------+------------+-------------+\n",
      "|            Paper_ID|               title|                body|publish_time|             authors|             journal|publish_Year|publish_Month|\n",
      "+--------------------+--------------------+--------------------+------------+--------------------+--------------------+------------+-------------+\n",
      "|0782b4fb23ca65baf...|The population ge...| The model will b...|  2015-11-30|Tibayrenc, Michel...|        Acta Tropica|        2015|           11|\n",
      "|14d8fd027f39c8311...|Drug-Induced Dela...| Drug-induced del...|  2015-05-15|Klimas, Natasha; ...|Cutaneous Drug Er...|        2015|            5|\n",
      "|1e5228e3f0658479a...|Canonicalizing Kn...| User-generated c...|  2020-04-17|Fatma, Nausheen; ...|Advances in Knowl...|        2020|            4|\n",
      "|1e663ac169e08ea02...|The effects of a ...| Evidence has bee...|  2006-07-31|Yip, Paul S.F.; F...|Journal of Affect...|        2006|            7|\n",
      "|1f26b5e8291ea1ddc...|The Case for Labo...| The field of pat...|  2017-07-16|Kaul, Karen L.; S...|         Acad Pathol|        2017|            7|\n",
      "+--------------------+--------------------+--------------------+------------+--------------------+--------------------+------------+-------------+\n",
      "only showing top 5 rows\n",
      "\n"
     ]
    }
   ],
   "source": [
    "papers_meta.show(5)"
   ]
  },
  {
   "cell_type": "markdown",
   "metadata": {},
   "source": [
    "### Define a function to detect the paper language and filter out non-english papers"
   ]
  },
  {
   "cell_type": "code",
   "execution_count": 17,
   "metadata": {},
   "outputs": [],
   "source": [
    "from langdetect import detect\n",
    "def detect_lang(txt):\n",
    "    try:\n",
    "        return detect(txt)\n",
    "    except:\n",
    "        return None\n",
    "udf_detect_lang = udf(detect_lang)"
   ]
  },
  {
   "cell_type": "code",
   "execution_count": 18,
   "metadata": {},
   "outputs": [],
   "source": [
    "papers_meta = papers_meta.withColumn('Lang', udf_detect_lang(papers_meta['body']))"
   ]
  },
  {
   "cell_type": "code",
   "execution_count": 19,
   "metadata": {},
   "outputs": [
    {
     "name": "stdout",
     "output_type": "stream",
     "text": [
      "+--------------------+--------------------+--------------------+------------+--------------------+--------------------+------------+-------------+----+\n",
      "|            Paper_ID|               title|                body|publish_time|             authors|             journal|publish_Year|publish_Month|Lang|\n",
      "+--------------------+--------------------+--------------------+------------+--------------------+--------------------+------------+-------------+----+\n",
      "|8b99371978aab17bc...|                    | Pierre BÉGUÉ * A...|  2017-12-31|       Bégué, Pierre|Bulletin de l'Aca...|        2017|           12|  fr|\n",
      "|a97968e164a378d7d...|LE UN BOCAVIRUS H...| 6 -infection res...|  2006-11-30|Foulongne, Vincen...|Revue Francophone...|        2006|           11|  fr|\n",
      "|2806abcfcda76ad3e...|Journal Pre-proof...| grave de los cua...|  2020-04-29|Martino, Marcello...|                null|        2020|            4|  es|\n",
      "|8623787ac0fead8e9...|2 Infecties van d...| Luchtweginfectie...|        2011|de Jong, M.D.; Wo...|Microbiologie en ...|        2011|            1|  nl|\n",
      "|97a104cc4e0be18c3...|                    | Le terme de vasc...|  2012-12-21|           Dulac, Y.|Trait&#x000e9; de...|        2012|           12|  fr|\n",
      "+--------------------+--------------------+--------------------+------------+--------------------+--------------------+------------+-------------+----+\n",
      "only showing top 5 rows\n",
      "\n"
     ]
    }
   ],
   "source": [
    "## some papers are indeed non English\n",
    "papers_meta.select(\"*\").where(\"Lang<>'en'\").show(5)"
   ]
  },
  {
   "cell_type": "code",
   "execution_count": 20,
   "metadata": {},
   "outputs": [
    {
     "data": {
      "text/plain": [
       "10017"
      ]
     },
     "execution_count": 20,
     "metadata": {},
     "output_type": "execute_result"
    }
   ],
   "source": [
    "papers_meta.count()"
   ]
  },
  {
   "cell_type": "code",
   "execution_count": 21,
   "metadata": {},
   "outputs": [],
   "source": [
    "papers_meta = papers_meta.filter(papers_meta['Lang'] == 'en')"
   ]
  },
  {
   "cell_type": "code",
   "execution_count": 22,
   "metadata": {},
   "outputs": [
    {
     "data": {
      "text/plain": [
       "9638"
      ]
     },
     "execution_count": 22,
     "metadata": {},
     "output_type": "execute_result"
    }
   ],
   "source": [
    "papers_meta.count()"
   ]
  },
  {
   "cell_type": "code",
   "execution_count": 23,
   "metadata": {},
   "outputs": [
    {
     "name": "stdout",
     "output_type": "stream",
     "text": [
      "+--------------------+--------------------+--------------------+--------------------+--------------------+------------+-------------+\n",
      "|            Paper_ID|               title|                body|             authors|             journal|publish_Year|publish_Month|\n",
      "+--------------------+--------------------+--------------------+--------------------+--------------------+------------+-------------+\n",
      "|0782b4fb23ca65baf...|The population ge...| The model will b...|Tibayrenc, Michel...|        Acta Tropica|        2015|           11|\n",
      "|14d8fd027f39c8311...|Drug-Induced Dela...| Drug-induced del...|Klimas, Natasha; ...|Cutaneous Drug Er...|        2015|            5|\n",
      "|1e5228e3f0658479a...|Canonicalizing Kn...| User-generated c...|Fatma, Nausheen; ...|Advances in Knowl...|        2020|            4|\n",
      "|1e663ac169e08ea02...|The effects of a ...| Evidence has bee...|Yip, Paul S.F.; F...|Journal of Affect...|        2006|            7|\n",
      "|1f26b5e8291ea1ddc...|The Case for Labo...| The field of pat...|Kaul, Karen L.; S...|         Acad Pathol|        2017|            7|\n",
      "+--------------------+--------------------+--------------------+--------------------+--------------------+------------+-------------+\n",
      "only showing top 5 rows\n",
      "\n"
     ]
    }
   ],
   "source": [
    "#Drop the unneeded columns\n",
    "papers_meta = papers_meta.drop('publish_time', 'Lang')\n",
    "papers_meta.show(5)"
   ]
  },
  {
   "cell_type": "markdown",
   "metadata": {},
   "source": [
    "### We will periodically save the dataframes we are working on in parquet format with 12 partitions (the number of logical cores in our machine) for performance improvements."
   ]
  },
  {
   "cell_type": "code",
   "execution_count": 24,
   "metadata": {},
   "outputs": [],
   "source": [
    "## Save what we have so far\n",
    "papers_meta.repartition(12).write.parquet(\"./Dataset/papers_meta\")"
   ]
  },
  {
   "cell_type": "code",
   "execution_count": 2,
   "metadata": {},
   "outputs": [],
   "source": [
    "#papers_meta = spark.read\\\n",
    "#            .format(\"parquet\")\\\n",
    "#            .option(\"header\", \"true\")\\\n",
    "#            .load(\"./Dataset/papers_meta\")"
   ]
  },
  {
   "cell_type": "markdown",
   "metadata": {},
   "source": [
    "### Find which columns contain null or unknown values and replace them with \" \" for categorical and 0 for numerical"
   ]
  },
  {
   "cell_type": "markdown",
   "metadata": {},
   "source": [
    "### Count Nulls and Empty values in each column to understand more about the data"
   ]
  },
  {
   "cell_type": "code",
   "execution_count": 3,
   "metadata": {},
   "outputs": [
    {
     "name": "stdout",
     "output_type": "stream",
     "text": [
      "Count of Null\n",
      "+--------+-----+----+-------+-------+------------+-------------+\n",
      "|Paper_ID|title|body|authors|journal|publish_Year|publish_Month|\n",
      "+--------+-----+----+-------+-------+------------+-------------+\n",
      "|       0|    0|   0|   1252|   1817|        1127|         1127|\n",
      "+--------+-----+----+-------+-------+------------+-------------+\n",
      "\n",
      "Count of Empty values\n",
      "+--------+-----+----+-------+-------+------------+-------------+\n",
      "|Paper_ID|title|body|authors|journal|publish_Year|publish_Month|\n",
      "+--------+-----+----+-------+-------+------------+-------------+\n",
      "|       0|  933|   0|      0|      0|           0|            0|\n",
      "+--------+-----+----+-------+-------+------------+-------------+\n",
      "\n"
     ]
    }
   ],
   "source": [
    "from pyspark.sql.functions import isnan, when, count, col\n",
    "print(\"Count of Null\")\n",
    "papers_meta.select([count(when(isnan(c) | col(c).isNull(), c)).alias(c) for c in papers_meta.columns]).show()\n",
    "print(\"Count of Empty values\")\n",
    "papers_meta.select([count(when(col(c) == \"\", c)).alias(c) for c in papers_meta.columns]).show()"
   ]
  },
  {
   "cell_type": "code",
   "execution_count": 4,
   "metadata": {},
   "outputs": [
    {
     "data": {
      "text/plain": [
       "['Paper_ID', 'title', 'body', 'authors', 'journal']"
      ]
     },
     "execution_count": 4,
     "metadata": {},
     "output_type": "execute_result"
    }
   ],
   "source": [
    "cat_cols = [item[0] for item in papers_meta.dtypes if item[1].startswith('string')] \n",
    "cat_cols"
   ]
  },
  {
   "cell_type": "code",
   "execution_count": 5,
   "metadata": {},
   "outputs": [
    {
     "data": {
      "text/plain": [
       "['title', 'authors', 'journal']"
      ]
     },
     "execution_count": 5,
     "metadata": {},
     "output_type": "execute_result"
    }
   ],
   "source": [
    "from pyspark.sql.functions import col\n",
    "\n",
    "cat_null_cols = [column for column in cat_cols if papers_meta.where(col(column).isNull()| col(column).isin('')).count() > 0]\n",
    "cat_null_cols"
   ]
  },
  {
   "cell_type": "code",
   "execution_count": 6,
   "metadata": {},
   "outputs": [],
   "source": [
    "### Now let's fill with \" \"\n",
    "for column in cat_null_cols:\n",
    "    papers_meta = papers_meta.na.fill(\" \")"
   ]
  },
  {
   "cell_type": "code",
   "execution_count": 7,
   "metadata": {},
   "outputs": [
    {
     "data": {
      "text/plain": [
       "['publish_Year', 'publish_Month']"
      ]
     },
     "execution_count": 7,
     "metadata": {},
     "output_type": "execute_result"
    }
   ],
   "source": [
    "num_cols = [item[0] for item in papers_meta.dtypes if item[1].startswith('int') | item[1].startswith('double')] \n",
    "num_cols"
   ]
  },
  {
   "cell_type": "code",
   "execution_count": 8,
   "metadata": {},
   "outputs": [
    {
     "data": {
      "text/plain": [
       "['publish_Year', 'publish_Month']"
      ]
     },
     "execution_count": 8,
     "metadata": {},
     "output_type": "execute_result"
    }
   ],
   "source": [
    "### Now let's find numerical columns with null values\n",
    "num_null_cols = [column for column in num_cols if papers_meta.filter(col(column).isNull() | col(column).eqNullSafe(0)).count() > 0]\n",
    "num_null_cols"
   ]
  },
  {
   "cell_type": "code",
   "execution_count": 9,
   "metadata": {},
   "outputs": [],
   "source": [
    "### Now let's fill with 0\n",
    "for column in num_null_cols:\n",
    "    papers_meta = papers_meta.na.fill(0)"
   ]
  },
  {
   "cell_type": "code",
   "execution_count": 10,
   "metadata": {},
   "outputs": [
    {
     "name": "stdout",
     "output_type": "stream",
     "text": [
      "+--------------------+--------------------+--------------------+--------------------+--------------------+------------+-------------+\n",
      "|            Paper_ID|               title|                body|             authors|             journal|publish_Year|publish_Month|\n",
      "+--------------------+--------------------+--------------------+--------------------+--------------------+------------+-------------+\n",
      "|012b16ae54779ca1a...|Synchronized Bive...| Miniaturized imp...|Lyu, Hongming; Jo...|             Sci Rep|        2020|            2|\n",
      "|01bc7fe59fc7feb0e...|Open Forum Infect...| Acute upper resp...|Joseph, Patrick; ...|Open Forum Infect...|        2018|            2|\n",
      "|0240a12c9fdf6c031...|Supersize me: how...| In epidemiology,...|Kao, Rowland R.; ...|Trends in Microbi...|        2014|            5|\n",
      "|03bfb747583f6b214...|The Infant Nasoph...| The human microb...|                    |                    |           0|            0|\n",
      "|06e9041ff3cb1db28...|Selected Nonvacci...| A cute respirato...|Lee, Terrence; Jo...|American Journal ...|        2005|            4|\n",
      "|0760e79585cd85c7e...|                    | Infectious disea...|           Froes, F.|         Pulmonology|        2020|            4|\n",
      "|0adf2e22eefb4ea5e...|Aberrant coagulat...| Influenza A viru...|Yang, Yan; Tang, ...|Cellular & Molecu...|        2016|            4|\n",
      "|0b137fde2327ae466...|Tips and Tricks f...| Manufacturing of...|Viganò, Mariele; ...|      Stem Cells Int|        2018|            9|\n",
      "|0c95f3083af8f4daf...|Automated TruTip ...| Nucleic acid tec...|Thakore, Nitu; No...|            PLoS One|        2018|            7|\n",
      "|0ef55241b6127c6bc...|Putative papain-r...| Polyprotein proc...|                    |                    |           0|            0|\n",
      "+--------------------+--------------------+--------------------+--------------------+--------------------+------------+-------------+\n",
      "only showing top 10 rows\n",
      "\n"
     ]
    }
   ],
   "source": [
    "papers_meta.show(10)"
   ]
  },
  {
   "cell_type": "markdown",
   "metadata": {},
   "source": [
    "### Now drop duplicates rows (No duplicates found in our sample)"
   ]
  },
  {
   "cell_type": "code",
   "execution_count": 11,
   "metadata": {},
   "outputs": [
    {
     "data": {
      "text/plain": [
       "DataFrame[Paper_ID: string, title: string, body: string, authors: string, journal: string, publish_Year: int, publish_Month: int]"
      ]
     },
     "execution_count": 11,
     "metadata": {},
     "output_type": "execute_result"
    }
   ],
   "source": [
    "papers_meta.count()\n",
    "papers_meta.dropDuplicates()"
   ]
  },
  {
   "cell_type": "code",
   "execution_count": 12,
   "metadata": {},
   "outputs": [
    {
     "data": {
      "text/plain": [
       "9639"
      ]
     },
     "execution_count": 12,
     "metadata": {},
     "output_type": "execute_result"
    }
   ],
   "source": [
    "papers_meta.count()"
   ]
  },
  {
   "cell_type": "code",
   "execution_count": 13,
   "metadata": {},
   "outputs": [],
   "source": [
    "## Save what we have so far\n",
    "papers_meta.repartition(12).write.parquet(\"./Dataset/papers_meta_cleaned\")"
   ]
  },
  {
   "cell_type": "code",
   "execution_count": 14,
   "metadata": {},
   "outputs": [],
   "source": [
    "papers_meta = spark.read\\\n",
    "            .format(\"parquet\")\\\n",
    "            .option(\"header\", \"true\")\\\n",
    "            .load(\"./Dataset/papers_meta_cleaned\")"
   ]
  },
  {
   "cell_type": "markdown",
   "metadata": {},
   "source": [
    "## Step 4 (Preprocessing)"
   ]
  },
  {
   "cell_type": "markdown",
   "metadata": {},
   "source": [
    "### Now let's start the Processing phase for the papers body and title"
   ]
  },
  {
   "cell_type": "code",
   "execution_count": 15,
   "metadata": {},
   "outputs": [],
   "source": [
    "from pyspark.sql.functions import lower, regexp_replace\n",
    "from pyspark.ml.feature import Tokenizer, StopWordsRemover"
   ]
  },
  {
   "cell_type": "markdown",
   "metadata": {},
   "source": [
    "#### Convert the body text to lower case\n",
    "#### Remove Punctuation"
   ]
  },
  {
   "cell_type": "code",
   "execution_count": 16,
   "metadata": {},
   "outputs": [],
   "source": [
    "from pyspark.sql.functions import col\n",
    "\n",
    "papers_meta = papers_meta.withColumn(\"body\", lower(col('body')))\n",
    "papers_meta = papers_meta.withColumn(\"body\", regexp_replace(\"body\", \"[^a-zA-Z\\\\s]\" , \" \"))\n",
    "papers_meta = papers_meta.withColumn(\"body\", regexp_replace(\"body\", \" +\" , \" \"))\n",
    "papers_meta = papers_meta.withColumn(\"body\", regexp_replace(\"body\", \"^ +\" , \"\"))"
   ]
  },
  {
   "cell_type": "code",
   "execution_count": 17,
   "metadata": {},
   "outputs": [],
   "source": [
    "papers_meta = papers_meta.withColumn(\"title\", lower(col('title')))\n",
    "papers_meta = papers_meta.withColumn(\"title\", regexp_replace(\"title\", \"[^a-zA-Z\\\\s]\" , \" \"))\n",
    "papers_meta = papers_meta.withColumn(\"title\", regexp_replace(\"title\", \" +\" , \" \"))\n",
    "papers_meta = papers_meta.withColumn(\"title\", regexp_replace(\"title\", \"^ +\" , \"\"))"
   ]
  },
  {
   "cell_type": "code",
   "execution_count": 18,
   "metadata": {},
   "outputs": [
    {
     "name": "stdout",
     "output_type": "stream",
     "text": [
      "+--------------------+--------------------+--------------------+--------------------+------------+------------+-------------+\n",
      "|            Paper_ID|               title|                body|             authors|     journal|publish_Year|publish_Month|\n",
      "+--------------------+--------------------+--------------------+--------------------+------------+------------+-------------+\n",
      "|002f213aeda7ce843...|etiology and impa...|community acquire...|Nolan, Vikki G; A...|J Infect Dis|        2018|            7|\n",
      "|0297dd12949520da3...|optimization of p...|the localization ...|Quintana, C.; Mar...|      Micron|        1998|            8|\n",
      "|09045f5964f24691f...|evaluation of tnf...|the toxic effects...|Rook, Graham A. W...|  Biotherapy|        1991|            1|\n",
      "|0e3da58a0d46d88ee...|the influence of ...|increasing our un...|                    |            |           0|            0|\n",
      "|103c89c60d7d24bb8...|does pathogen spi...|pathogen outbreak...|Otterstatter, Mic...|    PLoS One|        2008|            7|\n",
      "|12d9952ba3cf8410e...|immunoglobulin he...|immunoglobulin ge...|                    |            |           0|            0|\n",
      "|18f991e0b4dc59943...|center for medica...|the novel coronav...|Huang, Ying hui; ...|            |        2020|            4|\n",
      "|192b2c4501ca09903...|generalized latti...|several graph rep...|González-Díaz, H....|J Theor Biol|        2009|           11|\n",
      "|1a5c7512b0e842a7b...|sars coronavirus ...|severe acute resp...|Varshney, Bhavna;...|    PLoS One|        2012|            1|\n",
      "|1ba8aa57522bdeb6b...|genetic cellular ...|the year occasion...|       Nabel, Gary J|     Nat Med|        2004|            1|\n",
      "+--------------------+--------------------+--------------------+--------------------+------------+------------+-------------+\n",
      "only showing top 10 rows\n",
      "\n"
     ]
    }
   ],
   "source": [
    "papers_meta.show(10)"
   ]
  },
  {
   "cell_type": "markdown",
   "metadata": {},
   "source": [
    "#### Tokenize the paper body text and title text"
   ]
  },
  {
   "cell_type": "code",
   "execution_count": 19,
   "metadata": {},
   "outputs": [],
   "source": [
    "tokenizer = Tokenizer(inputCol='body', outputCol='words_token')\n",
    "papers_meta = tokenizer.transform(papers_meta).select('*')"
   ]
  },
  {
   "cell_type": "code",
   "execution_count": 20,
   "metadata": {},
   "outputs": [],
   "source": [
    "tokenizer = Tokenizer(inputCol='title', outputCol='title_token')\n",
    "papers_meta = tokenizer.transform(papers_meta).select('*')"
   ]
  },
  {
   "cell_type": "code",
   "execution_count": 21,
   "metadata": {},
   "outputs": [
    {
     "name": "stdout",
     "output_type": "stream",
     "text": [
      "+--------------------+--------------------+\n",
      "|         words_token|         title_token|\n",
      "+--------------------+--------------------+\n",
      "|[community, acqui...|[etiology, and, i...|\n",
      "|[the, localizatio...|[optimization, of...|\n",
      "|[the, toxic, effe...|[evaluation, of, ...|\n",
      "|[increasing, our,...|[the, influence, ...|\n",
      "|[pathogen, outbre...|[does, pathogen, ...|\n",
      "|[immunoglobulin, ...|[immunoglobulin, ...|\n",
      "|[the, novel, coro...|[center, for, med...|\n",
      "|[several, graph, ...|[generalized, lat...|\n",
      "|[severe, acute, r...|[sars, coronaviru...|\n",
      "|[the, year, occas...|[genetic, cellula...|\n",
      "+--------------------+--------------------+\n",
      "only showing top 10 rows\n",
      "\n"
     ]
    }
   ],
   "source": [
    "papers_meta.select('words_token', 'title_token').show(10)"
   ]
  },
  {
   "cell_type": "markdown",
   "metadata": {},
   "source": [
    "#### Remove stop words"
   ]
  },
  {
   "cell_type": "code",
   "execution_count": 22,
   "metadata": {},
   "outputs": [],
   "source": [
    "remover = StopWordsRemover(inputCol='words_token', outputCol='words_clean')\n",
    "papers_meta = remover.transform(papers_meta).select('*')"
   ]
  },
  {
   "cell_type": "code",
   "execution_count": 23,
   "metadata": {},
   "outputs": [],
   "source": [
    "remover = StopWordsRemover(inputCol='title_token', outputCol='title_clean')\n",
    "papers_meta = remover.transform(papers_meta).select('*')"
   ]
  },
  {
   "cell_type": "code",
   "execution_count": 24,
   "metadata": {},
   "outputs": [
    {
     "name": "stdout",
     "output_type": "stream",
     "text": [
      "+--------------------+--------------------+\n",
      "|         words_clean|         title_clean|\n",
      "+--------------------+--------------------+\n",
      "|[community, acqui...|[etiology, impact...|\n",
      "|[localization, ch...|[optimization, ph...|\n",
      "|[toxic, effects, ...|[evaluation, tnf,...|\n",
      "|[increasing, unde...|[influence, clima...|\n",
      "|[pathogen, outbre...|[pathogen, spillo...|\n",
      "|[immunoglobulin, ...|[immunoglobulin, ...|\n",
      "|[novel, coronavir...|[center, medical,...|\n",
      "|[several, graph, ...|[generalized, lat...|\n",
      "|[severe, acute, r...|[sars, coronaviru...|\n",
      "|[year, occasioned...|[genetic, cellula...|\n",
      "+--------------------+--------------------+\n",
      "only showing top 10 rows\n",
      "\n"
     ]
    }
   ],
   "source": [
    "papers_meta.select('words_clean', 'title_clean').show(10)"
   ]
  },
  {
   "cell_type": "markdown",
   "metadata": {},
   "source": [
    "#### Now we need to remove the custom stopwords"
   ]
  },
  {
   "cell_type": "code",
   "execution_count": 25,
   "metadata": {},
   "outputs": [],
   "source": [
    "remover2 = StopWordsRemover(inputCol='words_clean', outputCol='words_clean_custom', stopWords = ['doi', 'preprint', 'copyright', 'peer', 'reviewed', 'org',\n",
    "'https', 'et', 'al', 'author', 'figure','rights', 'reserved', 'permission', 'used', 'using',\n",
    "'biorxiv', 'medrxiv', 'license', 'fig', 'fig.', 'al.', 'Elsevier', 'PMC', 'CZI', 'www'])\n",
    "papers_meta = remover2.transform(papers_meta).select('*')"
   ]
  },
  {
   "cell_type": "code",
   "execution_count": 26,
   "metadata": {},
   "outputs": [],
   "source": [
    "    remover2 = StopWordsRemover(inputCol='title_clean', outputCol='title_clean_custom', stopWords = ['doi', 'preprint', 'copyright', 'peer', 'reviewed', 'org',\n",
    "'https', 'et', 'al', 'author', 'figure','rights', 'reserved', 'permission', 'used', 'using',\n",
    "'biorxiv', 'medrxiv', 'license', 'fig', 'fig.', 'al.', 'Elsevier', 'PMC', 'CZI', 'www'])\n",
    "papers_meta = remover2.transform(papers_meta).select('*')"
   ]
  },
  {
   "cell_type": "code",
   "execution_count": 27,
   "metadata": {},
   "outputs": [
    {
     "name": "stdout",
     "output_type": "stream",
     "text": [
      "+--------------------+--------------------+\n",
      "|  words_clean_custom|  title_clean_custom|\n",
      "+--------------------+--------------------+\n",
      "|[community, acqui...|[etiology, impact...|\n",
      "|[localization, ch...|[optimization, ph...|\n",
      "|[toxic, effects, ...|[evaluation, tnf,...|\n",
      "|[increasing, unde...|[influence, clima...|\n",
      "|[pathogen, outbre...|[pathogen, spillo...|\n",
      "|[immunoglobulin, ...|[immunoglobulin, ...|\n",
      "|[novel, coronavir...|[center, medical,...|\n",
      "|[several, graph, ...|[generalized, lat...|\n",
      "|[severe, acute, r...|[sars, coronaviru...|\n",
      "|[year, occasioned...|[genetic, cellula...|\n",
      "+--------------------+--------------------+\n",
      "only showing top 10 rows\n",
      "\n"
     ]
    }
   ],
   "source": [
    "papers_meta.select('words_clean_custom', 'title_clean_custom').show(10)"
   ]
  },
  {
   "cell_type": "code",
   "execution_count": 28,
   "metadata": {},
   "outputs": [],
   "source": [
    "from pyspark.sql.functions import size\n",
    "papers_meta = papers_meta.withColumn(\"wordcount\", size(\"words_clean_custom\"))"
   ]
  },
  {
   "cell_type": "code",
   "execution_count": 29,
   "metadata": {},
   "outputs": [
    {
     "name": "stdout",
     "output_type": "stream",
     "text": [
      "root\n",
      " |-- Paper_ID: string (nullable = true)\n",
      " |-- title: string (nullable = true)\n",
      " |-- body: string (nullable = true)\n",
      " |-- authors: string (nullable = true)\n",
      " |-- journal: string (nullable = true)\n",
      " |-- publish_Year: integer (nullable = true)\n",
      " |-- publish_Month: integer (nullable = true)\n",
      " |-- words_token: array (nullable = true)\n",
      " |    |-- element: string (containsNull = true)\n",
      " |-- title_token: array (nullable = true)\n",
      " |    |-- element: string (containsNull = true)\n",
      " |-- words_clean: array (nullable = true)\n",
      " |    |-- element: string (containsNull = true)\n",
      " |-- title_clean: array (nullable = true)\n",
      " |    |-- element: string (containsNull = true)\n",
      " |-- words_clean_custom: array (nullable = true)\n",
      " |    |-- element: string (containsNull = true)\n",
      " |-- title_clean_custom: array (nullable = true)\n",
      " |    |-- element: string (containsNull = true)\n",
      " |-- wordcount: integer (nullable = false)\n",
      "\n"
     ]
    }
   ],
   "source": [
    "papers_meta.printSchema()"
   ]
  },
  {
   "cell_type": "markdown",
   "metadata": {},
   "source": [
    "### Drop the unneeded columns"
   ]
  },
  {
   "cell_type": "code",
   "execution_count": 30,
   "metadata": {},
   "outputs": [],
   "source": [
    "#papers_meta = papers_meta.drop('title', 'body', 'words_token', 'words_clean', 'title_token', 'title_clean')\n",
    "papers_meta = papers_meta.drop('body', 'words_token', 'words_clean', 'title_token')"
   ]
  },
  {
   "cell_type": "code",
   "execution_count": 31,
   "metadata": {},
   "outputs": [
    {
     "name": "stdout",
     "output_type": "stream",
     "text": [
      "+--------------------+--------------------+--------------------+--------------------+------------+-------------+--------------------+--------------------+--------------------+---------+\n",
      "|            Paper_ID|               title|             authors|             journal|publish_Year|publish_Month|         title_clean|  words_clean_custom|  title_clean_custom|wordcount|\n",
      "+--------------------+--------------------+--------------------+--------------------+------------+-------------+--------------------+--------------------+--------------------+---------+\n",
      "|002f213aeda7ce843...|etiology and impa...|Nolan, Vikki G; A...|        J Infect Dis|        2018|            7|[etiology, impact...|[community, acqui...|[etiology, impact...|     2116|\n",
      "|0297dd12949520da3...|optimization of p...|Quintana, C.; Mar...|              Micron|        1998|            8|[optimization, ph...|[localization, ch...|[optimization, ph...|     2837|\n",
      "|09045f5964f24691f...|evaluation of tnf...|Rook, Graham A. W...|          Biotherapy|        1991|            1|[evaluation, tnf,...|[toxic, effects, ...|[evaluation, tnf,...|     1834|\n",
      "|0e3da58a0d46d88ee...|the influence of ...|                    |                    |           0|            0|[influence, clima...|[increasing, unde...|[influence, clima...|     2549|\n",
      "|103c89c60d7d24bb8...|does pathogen spi...|Otterstatter, Mic...|            PLoS One|        2008|            7|[pathogen, spillo...|[pathogen, outbre...|[pathogen, spillo...|     3507|\n",
      "|12d9952ba3cf8410e...|immunoglobulin he...|                    |                    |           0|            0|[immunoglobulin, ...|[immunoglobulin, ...|[immunoglobulin, ...|     3212|\n",
      "|18f991e0b4dc59943...|center for medica...|Huang, Ying hui; ...|                    |        2020|            4|[center, medical,...|[novel, coronavir...|[center, medical,...|     1846|\n",
      "|192b2c4501ca09903...|generalized latti...|González-Díaz, H....|        J Theor Biol|        2009|           11|[generalized, lat...|[several, graph, ...|[generalized, lat...|     4797|\n",
      "|1a5c7512b0e842a7b...|sars coronavirus ...|Varshney, Bhavna;...|            PLoS One|        2012|            1|[sars, coronaviru...|[severe, acute, r...|[sars, coronaviru...|     2911|\n",
      "|1ba8aa57522bdeb6b...|genetic cellular ...|       Nabel, Gary J|             Nat Med|        2004|            1|[genetic, cellula...|[year, occasioned...|[genetic, cellula...|     2507|\n",
      "|37c23803454ff0985...|                    |Ruuskanen, Olli; ...|     Clin Infect Dis|        2014|            6|                  []|[editor, rhinovir...|                  []|      727|\n",
      "|3dcaec279aea60700...|protection agains...|                    |                    |           0|            0|[protection, filo...|[filoviruses, eme...|[protection, filo...|     1489|\n",
      "|52da582d52fe94db1...|apoptosis induced...|Goswami, Biswendu...|       Antiviral Res|        2004|            4|[apoptosis, induc...|[hepatitis, virus...|[apoptosis, induc...|     3550|\n",
      "|5b01c0f218d069ed3...|rapid quantitativ...|Yan, Zhongqiang; ...|Sens Actuators B ...|        2006|           12|[rapid, quantitat...|[yersinia, pestis...|[rapid, quantitat...|     2171|\n",
      "|5fcb93b865d4cd747...|vitamin b and vit...|Song, Ningning; Z...|     Front Microbiol|        2020|            4|[vitamin, b, vita...|[mycobacterium, t...|[vitamin, b, vita...|     3603|\n",
      "|6475715fd9bca1168...|light dark photon...|Nakai, Yuichiro; ...|                    |        2020|            4|[light, dark, pho...|[nature, dark, ma...|[light, dark, pho...|     2809|\n",
      "|6ac37ecc83bd4e2f6...|article molecular...|Pickett, Julie E....|            Bone Res|        2018|            4|[article, molecul...|[total, joint, ar...|[article, molecul...|     2945|\n",
      "|6cf3e75deed023c8e...|chapter efficient...|Cockrell, Adam S....|Reverse Genetics ...|        2017|            5|[chapter, efficie...|[human, coronavir...|[chapter, efficie...|     2203|\n",
      "|6d0f164901ae18557...|autoantibodies in...|Biedzka‐Sarek, M....|     Scand J Immunol|        2008|            6|[autoantibodies, ...|[nuclear, recepto...|[autoantibodies, ...|     9375|\n",
      "|740e2079b3b8d3391...|emerging technolo...|White, David M.; ...|Ensuring National...|        2016|           12|[emerging, techno...|[role, institutio...|[emerging, techno...|     4597|\n",
      "+--------------------+--------------------+--------------------+--------------------+------------+-------------+--------------------+--------------------+--------------------+---------+\n",
      "only showing top 20 rows\n",
      "\n"
     ]
    }
   ],
   "source": [
    "papers_meta.show()"
   ]
  },
  {
   "cell_type": "code",
   "execution_count": 32,
   "metadata": {},
   "outputs": [],
   "source": [
    "papers_meta.repartition(12).write.parquet(\"./papers_meta_processed\")"
   ]
  },
  {
   "cell_type": "code",
   "execution_count": 2,
   "metadata": {},
   "outputs": [],
   "source": [
    "#papers_meta = spark.read\\\n",
    "#            .format(\"parquet\")\\\n",
    "#            .option(\"header\", \"true\")\\\n",
    "#            .load(\"./Dataset/papers_meta_processed\")"
   ]
  },
  {
   "cell_type": "markdown",
   "metadata": {},
   "source": [
    "## Step 5 (Vectorization and prepare the features column)"
   ]
  },
  {
   "cell_type": "markdown",
   "metadata": {},
   "source": [
    "#### Now Apply Word2Vec on the processed body text \"words_clean_custom\" and the title text \"title_clean_custom\""
   ]
  },
  {
   "cell_type": "code",
   "execution_count": 33,
   "metadata": {},
   "outputs": [],
   "source": [
    "from pyspark.ml.feature import Word2Vec\n",
    "\n",
    "# Learn a mapping from words to Vectors.\n",
    "word2Vec = Word2Vec(vectorSize=100, minCount=0, inputCol=\"words_clean_custom\", outputCol=\"word2vec_body\")\n",
    "model = word2Vec.fit(papers_meta)\n",
    "\n",
    "papers_meta = model.transform(papers_meta)"
   ]
  },
  {
   "cell_type": "code",
   "execution_count": 34,
   "metadata": {},
   "outputs": [],
   "source": [
    "word2Vec = Word2Vec(vectorSize=100, minCount=0, inputCol=\"title_clean_custom\", outputCol=\"word2vec_title\")\n",
    "model = word2Vec.fit(papers_meta)\n",
    "\n",
    "papers_meta = model.transform(papers_meta)"
   ]
  },
  {
   "cell_type": "code",
   "execution_count": 35,
   "metadata": {},
   "outputs": [
    {
     "name": "stdout",
     "output_type": "stream",
     "text": [
      "+--------------------+--------------------+--------------------+------------+------------+-------------+--------------------+--------------------+--------------------+---------+--------------------+--------------------+\n",
      "|            Paper_ID|               title|             authors|     journal|publish_Year|publish_Month|         title_clean|  words_clean_custom|  title_clean_custom|wordcount|       word2vec_body|      word2vec_title|\n",
      "+--------------------+--------------------+--------------------+------------+------------+-------------+--------------------+--------------------+--------------------+---------+--------------------+--------------------+\n",
      "|002f213aeda7ce843...|etiology and impa...|Nolan, Vikki G; A...|J Infect Dis|        2018|            7|[etiology, impact...|[community, acqui...|[etiology, impact...|     2116|[0.06443376156094...|[0.00269449857296...|\n",
      "|0297dd12949520da3...|optimization of p...|Quintana, C.; Mar...|      Micron|        1998|            8|[optimization, ph...|[localization, ch...|[optimization, ph...|     2837|[0.10042087261533...|[-0.0050401708867...|\n",
      "|09045f5964f24691f...|evaluation of tnf...|Rook, Graham A. W...|  Biotherapy|        1991|            1|[evaluation, tnf,...|[toxic, effects, ...|[evaluation, tnf,...|     1834|[0.04337179083320...|[-0.0120733820755...|\n",
      "|0e3da58a0d46d88ee...|the influence of ...|                    |            |           0|            0|[influence, clima...|[increasing, unde...|[influence, clima...|     2549|[0.10467938052221...|[-0.0949713807785...|\n",
      "|103c89c60d7d24bb8...|does pathogen spi...|Otterstatter, Mic...|    PLoS One|        2008|            7|[pathogen, spillo...|[pathogen, outbre...|[pathogen, spillo...|     3507|[0.05590694534083...|[6.79323734301659...|\n",
      "|12d9952ba3cf8410e...|immunoglobulin he...|                    |            |           0|            0|[immunoglobulin, ...|[immunoglobulin, ...|[immunoglobulin, ...|     3212|[0.02539976464512...|[-0.0145119832640...|\n",
      "|18f991e0b4dc59943...|center for medica...|Huang, Ying hui; ...|            |        2020|            4|[center, medical,...|[novel, coronavir...|[center, medical,...|     1846|[0.02266752335855...|[0.04260698920633...|\n",
      "|192b2c4501ca09903...|generalized latti...|González-Díaz, H....|J Theor Biol|        2009|           11|[generalized, lat...|[several, graph, ...|[generalized, lat...|     4797|[0.09675638989127...|[-0.0113056179002...|\n",
      "|1a5c7512b0e842a7b...|sars coronavirus ...|Varshney, Bhavna;...|    PLoS One|        2012|            1|[sars, coronaviru...|[severe, acute, r...|[sars, coronaviru...|     2911|[0.05548735486484...|[-0.0214845975395...|\n",
      "|1ba8aa57522bdeb6b...|genetic cellular ...|       Nabel, Gary J|     Nat Med|        2004|            1|[genetic, cellula...|[year, occasioned...|[genetic, cellula...|     2507|[0.04130894332898...|[0.00482482530060...|\n",
      "+--------------------+--------------------+--------------------+------------+------------+-------------+--------------------+--------------------+--------------------+---------+--------------------+--------------------+\n",
      "only showing top 10 rows\n",
      "\n"
     ]
    }
   ],
   "source": [
    "papers_meta.show(10)"
   ]
  },
  {
   "cell_type": "code",
   "execution_count": 36,
   "metadata": {},
   "outputs": [],
   "source": [
    "papers_meta.repartition(12).write.parquet(\"./Dataset/papers_meta_word2vec\")"
   ]
  },
  {
   "cell_type": "code",
   "execution_count": 5,
   "metadata": {},
   "outputs": [],
   "source": [
    "papers_meta = spark.read\\\n",
    "            .format(\"parquet\")\\\n",
    "            .option(\"header\", \"true\")\\\n",
    "            .load(\"./Dataset/papers_meta_word2vec\")"
   ]
  },
  {
   "cell_type": "code",
   "execution_count": 6,
   "metadata": {},
   "outputs": [
    {
     "name": "stdout",
     "output_type": "stream",
     "text": [
      "root\n",
      " |-- Paper_ID: string (nullable = true)\n",
      " |-- title: string (nullable = true)\n",
      " |-- authors: string (nullable = true)\n",
      " |-- journal: string (nullable = true)\n",
      " |-- publish_Year: integer (nullable = true)\n",
      " |-- publish_Month: integer (nullable = true)\n",
      " |-- title_clean: array (nullable = true)\n",
      " |    |-- element: string (containsNull = true)\n",
      " |-- words_clean_custom: array (nullable = true)\n",
      " |    |-- element: string (containsNull = true)\n",
      " |-- title_clean_custom: array (nullable = true)\n",
      " |    |-- element: string (containsNull = true)\n",
      " |-- wordcount: integer (nullable = true)\n",
      " |-- word2vec_body: vector (nullable = true)\n",
      " |-- word2vec_title: vector (nullable = true)\n",
      "\n"
     ]
    }
   ],
   "source": [
    "papers_meta.printSchema()"
   ]
  },
  {
   "cell_type": "code",
   "execution_count": 7,
   "metadata": {},
   "outputs": [],
   "source": [
    "#Select only the needed columns\n",
    "papers_meta = papers_meta.select('Paper_ID', 'authors', 'journal', 'wordcount', 'publish_Year', 'publish_Month', 'word2vec_body', 'word2vec_title')"
   ]
  },
  {
   "cell_type": "code",
   "execution_count": 8,
   "metadata": {},
   "outputs": [
    {
     "name": "stdout",
     "output_type": "stream",
     "text": [
      "+--------------------+--------------------+--------------------+---------+------------+-------------+--------------------+--------------------+\n",
      "|            Paper_ID|             authors|             journal|wordcount|publish_Year|publish_Month|       word2vec_body|      word2vec_title|\n",
      "+--------------------+--------------------+--------------------+---------+------------+-------------+--------------------+--------------------+\n",
      "|012b16ae54779ca1a...|Lyu, Hongming; Jo...|             Sci Rep|     1698|        2020|            2|[0.01163073299174...|[-0.0075389318427...|\n",
      "|01bc7fe59fc7feb0e...|Joseph, Patrick; ...|Open Forum Infect...|     2106|        2018|            2|[0.08144156184301...|[-0.0090094477359...|\n",
      "|0240a12c9fdf6c031...|Kao, Rowland R.; ...|Trends in Microbi...|     3808|        2014|            5|[0.04915223334121...|[-0.0112262216571...|\n",
      "|03bfb747583f6b214...|                    |                    |     3848|           0|            0|[0.03949146437089...|[0.00115656061097...|\n",
      "|06e9041ff3cb1db28...|Lee, Terrence; Jo...|American Journal ...|     2619|        2005|            4|[0.09074272874731...|[-0.0065258390604...|\n",
      "+--------------------+--------------------+--------------------+---------+------------+-------------+--------------------+--------------------+\n",
      "only showing top 5 rows\n",
      "\n"
     ]
    }
   ],
   "source": [
    "papers_meta.show(5)"
   ]
  },
  {
   "cell_type": "markdown",
   "metadata": {},
   "source": [
    "### Now let's prepare the features vector"
   ]
  },
  {
   "cell_type": "markdown",
   "metadata": {},
   "source": [
    "#### First, Define StringIndexers for categorical columns"
   ]
  },
  {
   "cell_type": "code",
   "execution_count": 9,
   "metadata": {},
   "outputs": [],
   "source": [
    "from pyspark.ml.feature import StringIndexer\n",
    "from pyspark.ml.feature import OneHotEncoder"
   ]
  },
  {
   "cell_type": "code",
   "execution_count": 10,
   "metadata": {},
   "outputs": [
    {
     "data": {
      "text/plain": [
       "['authors', 'journal']"
      ]
     },
     "execution_count": 10,
     "metadata": {},
     "output_type": "execute_result"
    }
   ],
   "source": [
    "cat_cols = [item[0] for item in papers_meta.dtypes if item[1].startswith('string')][1:]\n",
    "cat_cols"
   ]
  },
  {
   "cell_type": "code",
   "execution_count": 11,
   "metadata": {},
   "outputs": [],
   "source": [
    "indexers = [StringIndexer(\n",
    "    inputCol=column, \n",
    "    outputCol=column + '_index', \n",
    "    handleInvalid='keep') for column in cat_cols]"
   ]
  },
  {
   "cell_type": "code",
   "execution_count": 12,
   "metadata": {},
   "outputs": [],
   "source": [
    "encoders = [OneHotEncoder(\n",
    "    inputCol=column + '_index', \n",
    "    outputCol= column + '_encoded') for column in cat_cols]"
   ]
  },
  {
   "cell_type": "code",
   "execution_count": 13,
   "metadata": {},
   "outputs": [],
   "source": [
    "from pyspark.ml import Pipeline\n",
    "\n",
    "pipeline = Pipeline(stages=indexers + encoders)"
   ]
  },
  {
   "cell_type": "code",
   "execution_count": 14,
   "metadata": {},
   "outputs": [
    {
     "name": "stdout",
     "output_type": "stream",
     "text": [
      "+--------------------+--------------------+--------------------+---------+------------+-------------+--------------------+--------------------+-------------+-------------+-------------------+-------------------+\n",
      "|            Paper_ID|             authors|             journal|wordcount|publish_Year|publish_Month|       word2vec_body|      word2vec_title|authors_index|journal_index|    authors_encoded|    journal_encoded|\n",
      "+--------------------+--------------------+--------------------+---------+------------+-------------+--------------------+--------------------+-------------+-------------+-------------------+-------------------+\n",
      "|012b16ae54779ca1a...|Lyu, Hongming; Jo...|             Sci Rep|     1698|        2020|            2|[0.01163073299174...|[-0.0075389318427...|       7681.0|          7.0|(8321,[7681],[1.0])|   (2750,[7],[1.0])|\n",
      "|01bc7fe59fc7feb0e...|Joseph, Patrick; ...|Open Forum Infect...|     2106|        2018|            2|[0.08144156184301...|[-0.0090094477359...|       1436.0|         92.0|(8321,[1436],[1.0])|  (2750,[92],[1.0])|\n",
      "|0240a12c9fdf6c031...|Kao, Rowland R.; ...|Trends in Microbi...|     3808|        2014|            5|[0.04915223334121...|[-0.0112262216571...|       3535.0|        704.0|(8321,[3535],[1.0])| (2750,[704],[1.0])|\n",
      "|03bfb747583f6b214...|                    |                    |     3848|           0|            0|[0.03949146437089...|[0.00115656061097...|          0.0|          0.0|   (8321,[0],[1.0])|   (2750,[0],[1.0])|\n",
      "|06e9041ff3cb1db28...|Lee, Terrence; Jo...|American Journal ...|     2619|        2005|            4|[0.09074272874731...|[-0.0065258390604...|       3552.0|        357.0|(8321,[3552],[1.0])| (2750,[357],[1.0])|\n",
      "|0760e79585cd85c7e...|           Froes, F.|         Pulmonology|      477|        2020|            4|[0.07848690268100...|[0.00330294785089...|       7879.0|       1169.0|(8321,[7879],[1.0])|(2750,[1169],[1.0])|\n",
      "|0adf2e22eefb4ea5e...|Yang, Yan; Tang, ...|Cellular & Molecu...|     3184|        2016|            4|[-0.0165081877109...|[-0.0174122095664...|       8314.0|        398.0|(8321,[8314],[1.0])| (2750,[398],[1.0])|\n",
      "|0b137fde2327ae466...|Viganò, Mariele; ...|      Stem Cells Int|     4208|        2018|            9|[0.05817865815495...|[-0.0057283864339...|       6888.0|       2276.0|(8321,[6888],[1.0])|(2750,[2276],[1.0])|\n",
      "|0c95f3083af8f4daf...|Thakore, Nitu; No...|            PLoS One|     1980|        2018|            7|[0.05883210357652...|[0.00249506733962...|        704.0|          1.0| (8321,[704],[1.0])|   (2750,[1],[1.0])|\n",
      "|0ef55241b6127c6bc...|                    |                    |      941|           0|            0|[0.06429963556128...|[-0.0121964396426...|          0.0|          0.0|   (8321,[0],[1.0])|   (2750,[0],[1.0])|\n",
      "+--------------------+--------------------+--------------------+---------+------------+-------------+--------------------+--------------------+-------------+-------------+-------------------+-------------------+\n",
      "only showing top 10 rows\n",
      "\n"
     ]
    }
   ],
   "source": [
    "papers_meta_transformed = pipeline.fit(papers_meta).transform(papers_meta)\n",
    "papers_meta_transformed.show(10)"
   ]
  },
  {
   "cell_type": "markdown",
   "metadata": {},
   "source": [
    "### Now select the required features and apply the vector assembler"
   ]
  },
  {
   "cell_type": "code",
   "execution_count": 15,
   "metadata": {},
   "outputs": [],
   "source": [
    "requiredFeatures = [\n",
    "    'wordcount',\n",
    "    'publish_Year',\n",
    "    'publish_Month',\n",
    "    'word2vec_body',\n",
    "    'word2vec_title',\n",
    "    'authors_encoded',\n",
    "    'journal_encoded'\n",
    "]"
   ]
  },
  {
   "cell_type": "code",
   "execution_count": 16,
   "metadata": {},
   "outputs": [],
   "source": [
    "from pyspark.ml.feature import VectorAssembler\n",
    "\n",
    "assembler = VectorAssembler(inputCols=requiredFeatures, outputCol='features')"
   ]
  },
  {
   "cell_type": "code",
   "execution_count": 17,
   "metadata": {},
   "outputs": [
    {
     "name": "stdout",
     "output_type": "stream",
     "text": [
      "+--------------------+--------------------+--------------------+---------+------------+-------------+--------------------+--------------------+-------------+-------------+-------------------+-------------------+--------------------+\n",
      "|            Paper_ID|             authors|             journal|wordcount|publish_Year|publish_Month|       word2vec_body|      word2vec_title|authors_index|journal_index|    authors_encoded|    journal_encoded|            features|\n",
      "+--------------------+--------------------+--------------------+---------+------------+-------------+--------------------+--------------------+-------------+-------------+-------------------+-------------------+--------------------+\n",
      "|012b16ae54779ca1a...|Lyu, Hongming; Jo...|             Sci Rep|     1698|        2020|            2|[0.01163073299174...|[-0.0075389318427...|       7681.0|          7.0|(8321,[7681],[1.0])|   (2750,[7],[1.0])|(11274,[0,1,2,3,4...|\n",
      "|01bc7fe59fc7feb0e...|Joseph, Patrick; ...|Open Forum Infect...|     2106|        2018|            2|[0.08144156184301...|[-0.0090094477359...|       1436.0|         92.0|(8321,[1436],[1.0])|  (2750,[92],[1.0])|(11274,[0,1,2,3,4...|\n",
      "|0240a12c9fdf6c031...|Kao, Rowland R.; ...|Trends in Microbi...|     3808|        2014|            5|[0.04915223334121...|[-0.0112262216571...|       3535.0|        704.0|(8321,[3535],[1.0])| (2750,[704],[1.0])|(11274,[0,1,2,3,4...|\n",
      "|03bfb747583f6b214...|                    |                    |     3848|           0|            0|[0.03949146437089...|[0.00115656061097...|          0.0|          0.0|   (8321,[0],[1.0])|   (2750,[0],[1.0])|(11274,[0,3,4,5,6...|\n",
      "|06e9041ff3cb1db28...|Lee, Terrence; Jo...|American Journal ...|     2619|        2005|            4|[0.09074272874731...|[-0.0065258390604...|       3552.0|        357.0|(8321,[3552],[1.0])| (2750,[357],[1.0])|(11274,[0,1,2,3,4...|\n",
      "|0760e79585cd85c7e...|           Froes, F.|         Pulmonology|      477|        2020|            4|[0.07848690268100...|[0.00330294785089...|       7879.0|       1169.0|(8321,[7879],[1.0])|(2750,[1169],[1.0])|(11274,[0,1,2,3,4...|\n",
      "|0adf2e22eefb4ea5e...|Yang, Yan; Tang, ...|Cellular & Molecu...|     3184|        2016|            4|[-0.0165081877109...|[-0.0174122095664...|       8314.0|        398.0|(8321,[8314],[1.0])| (2750,[398],[1.0])|(11274,[0,1,2,3,4...|\n",
      "|0b137fde2327ae466...|Viganò, Mariele; ...|      Stem Cells Int|     4208|        2018|            9|[0.05817865815495...|[-0.0057283864339...|       6888.0|       2276.0|(8321,[6888],[1.0])|(2750,[2276],[1.0])|(11274,[0,1,2,3,4...|\n",
      "|0c95f3083af8f4daf...|Thakore, Nitu; No...|            PLoS One|     1980|        2018|            7|[0.05883210357652...|[0.00249506733962...|        704.0|          1.0| (8321,[704],[1.0])|   (2750,[1],[1.0])|(11274,[0,1,2,3,4...|\n",
      "|0ef55241b6127c6bc...|                    |                    |      941|           0|            0|[0.06429963556128...|[-0.0121964396426...|          0.0|          0.0|   (8321,[0],[1.0])|   (2750,[0],[1.0])|(11274,[0,3,4,5,6...|\n",
      "+--------------------+--------------------+--------------------+---------+------------+-------------+--------------------+--------------------+-------------+-------------+-------------------+-------------------+--------------------+\n",
      "only showing top 10 rows\n",
      "\n"
     ]
    }
   ],
   "source": [
    "papers_meta_transformed = assembler.transform(papers_meta_transformed)\n",
    "papers_meta_transformed.show(10)"
   ]
  },
  {
   "cell_type": "code",
   "execution_count": 18,
   "metadata": {},
   "outputs": [
    {
     "data": {
      "text/plain": [
       "[Row(features=SparseVector(11274, {0: 1698.0, 1: 2020.0, 2: 2.0, 3: 0.0116, 4: 0.0265, 5: -0.0644, 6: 0.0816, 7: 0.0961, 8: 0.0552, 9: -0.0292, 10: -0.0011, 11: 0.0366, 12: -0.023, 13: 0.0719, 14: 0.0557, 15: 0.0626, 16: -0.0705, 17: 0.0417, 18: -0.0005, 19: 0.0572, 20: 0.0365, 21: -0.0463, 22: -0.0642, 23: 0.0766, 24: 0.1025, 25: -0.0562, 26: -0.0541, 27: 0.1363, 28: 0.0014, 29: 0.0375, 30: -0.01, 31: 0.0259, 32: -0.0201, 33: 0.0728, 34: -0.0501, 35: 0.0868, 36: 0.0254, 37: 0.0173, 38: 0.0262, 39: 0.049, 40: 0.0031, 41: -0.0995, 42: 0.024, 43: 0.057, 44: -0.1118, 45: 0.0655, 46: -0.0249, 47: -0.0041, 48: 0.1353, 49: 0.0664, 50: -0.0821, 51: 0.0134, 52: 0.1031, 53: 0.0146, 54: 0.0308, 55: -0.0068, 56: -0.0535, 57: 0.0218, 58: -0.0081, 59: -0.091, 60: 0.0346, 61: 0.0121, 62: 0.031, 63: -0.0908, 64: -0.0987, 65: -0.0094, 66: 0.049, 67: 0.0227, 68: -0.0361, 69: -0.0589, 70: 0.0279, 71: 0.0328, 72: 0.0705, 73: 0.027, 74: -0.0416, 75: 0.0925, 76: 0.1131, 77: 0.0295, 78: 0.0567, 79: -0.0371, 80: -0.054, 81: -0.014, 82: 0.0098, 83: 0.0622, 84: 0.0198, 85: 0.0181, 86: 0.0543, 87: 0.0255, 88: -0.1185, 89: -0.0375, 90: 0.0758, 91: 0.0095, 92: 0.0429, 93: 0.0596, 94: 0.0391, 95: -0.0748, 96: 0.0263, 97: 0.0678, 98: -0.0216, 99: -0.0596, 100: -0.0636, 101: 0.0, 102: 0.0382, 103: -0.0075, 104: 0.0001, 105: -0.0093, 106: 0.0027, 107: 0.0065, 108: -0.001, 109: 0.013, 110: -0.0179, 111: 0.0049, 112: -0.0194, 113: -0.0021, 114: 0.0033, 115: -0.0164, 116: -0.0087, 117: 0.0145, 118: -0.0014, 119: 0.0244, 120: -0.0, 121: 0.0129, 122: -0.0324, 123: -0.0123, 124: -0.0077, 125: -0.0043, 126: 0.0036, 127: 0.0001, 128: -0.0139, 129: -0.0042, 130: 0.0041, 131: 0.0164, 132: 0.0062, 133: -0.0053, 134: 0.0025, 135: -0.0028, 136: -0.0011, 137: -0.0028, 138: -0.0032, 139: 0.0163, 140: 0.0121, 141: 0.0224, 142: -0.002, 143: 0.0127, 144: -0.0115, 145: 0.0105, 146: 0.0016, 147: 0.0037, 148: 0.0058, 149: 0.0087, 150: -0.0036, 151: 0.0137, 152: 0.0089, 153: -0.0131, 154: 0.0114, 155: -0.0016, 156: 0.004, 157: -0.0019, 158: -0.0083, 159: -0.0138, 160: -0.0043, 161: 0.0195, 162: 0.0058, 163: 0.0204, 164: -0.0064, 165: 0.0114, 166: -0.0042, 167: 0.0156, 168: -0.0144, 169: -0.0014, 170: 0.011, 171: 0.0032, 172: 0.0087, 173: 0.0047, 174: -0.0181, 175: 0.0036, 176: 0.0118, 177: -0.0159, 178: -0.0097, 179: 0.0049, 180: 0.0026, 181: 0.0163, 182: -0.0291, 183: 0.0033, 184: 0.0019, 185: 0.0046, 186: -0.0112, 187: 0.0051, 188: -0.0141, 189: -0.0177, 190: 0.0093, 191: 0.0111, 192: 0.022, 193: 0.0019, 194: 0.0138, 195: -0.0057, 196: -0.0171, 197: 0.0178, 198: -0.0032, 199: -0.0127, 200: 0.0041, 201: -0.0058, 202: -0.0157, 7884: 1.0, 8531: 1.0}))]"
      ]
     },
     "execution_count": 18,
     "metadata": {},
     "output_type": "execute_result"
    }
   ],
   "source": [
    "papers_meta_transformed.select('features').head(1)"
   ]
  },
  {
   "cell_type": "code",
   "execution_count": 21,
   "metadata": {},
   "outputs": [],
   "source": [
    "papers_meta_transformed.repartition(12,'features').write.parquet(\"./Dataset/papersmeta_transformed\")"
   ]
  },
  {
   "cell_type": "code",
   "execution_count": 3,
   "metadata": {},
   "outputs": [
    {
     "name": "stdout",
     "output_type": "stream",
     "text": [
      "+--------------------+--------------------+--------------------+---------+------------+-------------+--------------------+--------------------+-------------+-------------+-------------------+-------------------+--------------------+\n",
      "|            Paper_ID|             authors|             journal|wordcount|publish_Year|publish_Month|       word2vec_body|      word2vec_title|authors_index|journal_index|    authors_encoded|    journal_encoded|            features|\n",
      "+--------------------+--------------------+--------------------+---------+------------+-------------+--------------------+--------------------+-------------+-------------+-------------------+-------------------+--------------------+\n",
      "|0d3951ca998dcf8af...|Veir, Julia K.; L...|Veterinary Clinic...|     2490|        2010|           11|[0.06525062580420...|[0.00330294785089...|       1449.0|        113.0|(8321,[1449],[1.0])| (2750,[113],[1.0])|(11274,[0,1,2,3,4...|\n",
      "|10218d6165dcbaa34...|Engström, Patrik;...|       Nat Microbiol|     5389|        2019|           10|[0.12919333469184...|[-0.0156040839663...|       6916.0|        479.0|(8321,[6916],[1.0])| (2750,[479],[1.0])|(11274,[0,1,2,3,4...|\n",
      "|1b59e2160f61456f3...|Parashar, Bhupesh...|              Cureus|     2854|        2020|            5|[0.08179591124634...|[0.02742541182841...|       6954.0|        120.0|(8321,[6954],[1.0])| (2750,[120],[1.0])|(11274,[0,1,2,3,4...|\n",
      "|204e90c2972ccfb55...|Rong, Q.; Alexand...|          Arch Virol|     2549|        2003|            1|[0.12304916116595...|[-0.0329982108669...|        630.0|          3.0| (8321,[630],[1.0])|   (2750,[3],[1.0])|(11274,[0,1,2,3,4...|\n",
      "|20bb0f949ada4e02d...|Musselwhite, Char...|     J Transp Health|     1233|        2020|            4|[0.06484576156660...|[0.00330294785089...|       5787.0|       2614.0|(8321,[5787],[1.0])|(2750,[2614],[1.0])|(11274,[0,1,2,3,4...|\n",
      "+--------------------+--------------------+--------------------+---------+------------+-------------+--------------------+--------------------+-------------+-------------+-------------------+-------------------+--------------------+\n",
      "only showing top 5 rows\n",
      "\n"
     ]
    }
   ],
   "source": [
    "papers_meta_transformed.show(5)"
   ]
  },
  {
   "cell_type": "markdown",
   "metadata": {},
   "source": [
    "## Step 6 (PCA and Clustering)"
   ]
  },
  {
   "cell_type": "markdown",
   "metadata": {},
   "source": [
    "### Apply the PCA"
   ]
  },
  {
   "cell_type": "code",
   "execution_count": 2,
   "metadata": {},
   "outputs": [],
   "source": [
    "papers_meta_transformed = spark.read\\\n",
    "            .format(\"parquet\")\\\n",
    "            .option(\"header\", \"true\")\\\n",
    "            .load(\"./Dataset/papersmeta_transformed\")"
   ]
  },
  {
   "cell_type": "code",
   "execution_count": 3,
   "metadata": {},
   "outputs": [],
   "source": [
    "from pyspark.ml.feature import PCA\n",
    "from pyspark.ml.linalg import Vectors\n",
    "\n",
    "pca = PCA(k=2, inputCol=\"features\", outputCol=\"features_pca\")\n",
    "model = pca.fit(papers_meta_transformed)\n",
    "papers_meta_transformed = model.transform(papers_meta_transformed)"
   ]
  },
  {
   "cell_type": "code",
   "execution_count": 5,
   "metadata": {},
   "outputs": [
    {
     "data": {
      "text/plain": [
       "DenseVector([0.9752, 0.0248])"
      ]
     },
     "execution_count": 5,
     "metadata": {},
     "output_type": "execute_result"
    }
   ],
   "source": [
    "model.explainedVariance"
   ]
  },
  {
   "cell_type": "code",
   "execution_count": 4,
   "metadata": {},
   "outputs": [
    {
     "name": "stdout",
     "output_type": "stream",
     "text": [
      "+--------------------+----------------+---------+------------+-------------+--------------------+--------------------+-------------+-------------+-----------------+-----------------+--------------------+--------------------+\n",
      "|             authors|         journal|wordcount|publish_Year|publish_Month|       word2vec_body|      word2vec_title|authors_index|journal_index|  authors_encoded|  journal_encoded|            features|        features_pca|\n",
      "+--------------------+----------------+---------+------------+-------------+--------------------+--------------------+-------------+-------------+-----------------+-----------------+--------------------+--------------------+\n",
      "|Wu, Peng; Wang, L...|        PLoS One|     1647|        2015|            9|[-0.0904070834538...|[-0.0057946556106...|        545.0|          1.0|(823,[545],[1.0])|  (533,[1],[1.0])|(1559,[0,1,2,3,4,...|[-1651.0701993916...|\n",
      "|                    |                |     2836|           0|            0|[0.04564585316306...|[-0.0129103393092...|          0.0|          0.0|  (823,[0],[1.0])|  (533,[0],[1.0])|(1559,[0,3,4,5,6,...|[-2835.9942152458...|\n",
      "|Herrera-Uribe, Jú...|         Vet Res|     3213|        2018|            9|[0.05120600047587...|[-0.0038783300106...|        428.0|         30.0|(823,[428],[1.0])| (533,[30],[1.0])|(1559,[0,1,2,3,4,...|[-3217.0730669380...|\n",
      "|                    |       J Exp Med|     1721|        1981|            4|[0.02892492618094...|[-0.0048593597725...|          0.0|        100.0|  (823,[0],[1.0])|(533,[100],[1.0])|(1559,[0,1,2,3,4,...|[-1725.0011497878...|\n",
      "|                    |                |     2332|           0|            0|[0.12313955832726...|[-0.0028581638947...|          0.0|          0.0|  (823,[0],[1.0])|  (533,[0],[1.0])|(1559,[0,3,4,5,6,...|[-2331.9952478303...|\n",
      "|Noh, Ji Yun; Song...|        PLoS One|     1141|        2013|            5|[-0.0906738900065...|[-0.0060536325327...|        546.0|          1.0|(823,[546],[1.0])|  (533,[1],[1.0])|(1559,[0,1,2,3,4,...|[-1145.0670399084...|\n",
      "|Lam, Wai-Yip; Yeu...|   BMC Microbiol|     2759|        2013|            5|[0.03766653158504...|[-0.0083344030523...|        342.0|         60.0|(823,[342],[1.0])| (533,[60],[1.0])|(1559,[0,1,2,3,4,...|[-2763.0637368799...|\n",
      "|Koonin, Eugene V....|        Virology|    10295|        2015|            5|[0.04314724207959...|[-0.0034523240841...|        411.0|          2.0|(823,[411],[1.0])|  (533,[2],[1.0])|(1559,[0,1,2,3,4,...|[-10299.052376958...|\n",
      "|McKimm-Breschkin,...|Treat Respir Med|     3301|        2012|            8|[-0.0541274390783...|[-0.0091846164141...|        257.0|        154.0|(823,[257],[1.0])|(533,[154],[1.0])|(1559,[0,1,2,3,4,...|[-3305.0607183392...|\n",
      "|                    |                |      653|           0|            0|[-0.0326838513918...|[-0.0066625987264...|          0.0|          0.0|  (823,[0],[1.0])|  (533,[0],[1.0])|(1559,[0,3,4,5,6,...|[-652.99867743813...|\n",
      "+--------------------+----------------+---------+------------+-------------+--------------------+--------------------+-------------+-------------+-----------------+-----------------+--------------------+--------------------+\n",
      "only showing top 10 rows\n",
      "\n"
     ]
    }
   ],
   "source": [
    "papers_meta_transformed.show(10)"
   ]
  },
  {
   "cell_type": "code",
   "execution_count": 7,
   "metadata": {},
   "outputs": [],
   "source": [
    "papers_meta_transformed.repartition(12).write.parquet(\"./Dataset/papersmeta_transformed_pca\")"
   ]
  },
  {
   "cell_type": "markdown",
   "metadata": {},
   "source": [
    "### Define the clustering model"
   ]
  },
  {
   "cell_type": "markdown",
   "metadata": {},
   "source": [
    "### Choose number of clusters k (based on Elbow method and silhouette_score)"
   ]
  },
  {
   "cell_type": "code",
   "execution_count": 6,
   "metadata": {},
   "outputs": [],
   "source": [
    "papers_meta_transformed = spark.read\\\n",
    "            .format(\"parquet\")\\\n",
    "            .option(\"header\", \"true\")\\\n",
    "            .load(\"./Dataset/papersmeta_transformed_pca\")"
   ]
  },
  {
   "cell_type": "code",
   "execution_count": 7,
   "metadata": {},
   "outputs": [],
   "source": [
    "from pyspark.ml.clustering import KMeans\n",
    "from pyspark.ml.evaluation import ClusteringEvaluator\n",
    "\n",
    "# Calculate cost and plot\n",
    "import numpy as np\n",
    "import pandas as pd \n",
    "\n",
    "cost = np.zeros(15)\n",
    "silhouette = np.zeros(15)\n",
    "\n",
    "for k in range(2,15):\n",
    "    kmeans = KMeans().setK(k).setSeed(1).setFeaturesCol('features_pca')\n",
    "    model = kmeans.fit(papers_meta_transformed)\n",
    "    cost[k] = model.computeCost(papers_meta_transformed)\n",
    "    clusterdData = model.transform(papers_meta_transformed)\n",
    "    evaluator = ClusteringEvaluator()\n",
    "    silhouette[k] = evaluator.evaluate(clusterdData)\n",
    "\n",
    "# Plot the cost\n",
    "df_eval = pd.DataFrame(np.array([cost[2:].tolist(),silhouette[2:].tolist()])).transpose()\n",
    "df_eval.columns = [\"cost\", \"silhouette_score\"]\n",
    "new_col = [2,3,4,5,6,7,8,9,10,11,12,13,14]\n",
    "df_eval.insert(0, 'cluster', new_col)\n"
   ]
  },
  {
   "cell_type": "code",
   "execution_count": 8,
   "metadata": {},
   "outputs": [
    {
     "data": {
      "text/plain": [
       "<matplotlib.axes._subplots.AxesSubplot at 0x7f5224ff6510>"
      ]
     },
     "execution_count": 8,
     "metadata": {},
     "output_type": "execute_result"
    },
    {
     "data": {
      "image/png": "[encoded data removed]",
      "text/plain": [
       "<Figure size 2880x720 with 2 Axes>"
      ]
     },
     "metadata": {},
     "output_type": "display_data"
    }
   ],
   "source": [
    "import seaborn as sns\n",
    "import matplotlib.pyplot as plt\n",
    "sns.set_style(\"whitegrid\")\n",
    "fig = plt.figure(figsize=(40,10))\n",
    "ax1 = fig.add_subplot(1, 2, 1)\n",
    "ax1.set(xticks=range(2,15))\n",
    "ax2 = fig.add_subplot(1, 2, 2)\n",
    "ax2.set(xticks=range(2,15))\n",
    "sns.lineplot(x='cluster', y='cost', data=df_eval, ax=ax1)\n",
    "sns.lineplot(x='cluster', y='silhouette_score', data=df_eval, ax=ax2)"
   ]
  },
  {
   "cell_type": "code",
   "execution_count": 9,
   "metadata": {},
   "outputs": [
    {
     "data": {
      "text/html": [
       "<div>\n",
       "<style scoped>\n",
       "    .dataframe tbody tr th:only-of-type {\n",
       "        vertical-align: middle;\n",
       "    }\n",
       "\n",
       "    .dataframe tbody tr th {\n",
       "        vertical-align: top;\n",
       "    }\n",
       "\n",
       "    .dataframe thead th {\n",
       "        text-align: right;\n",
       "    }\n",
       "</style>\n",
       "<table border=\"1\" class=\"dataframe\">\n",
       "  <thead>\n",
       "    <tr style=\"text-align: right;\">\n",
       "      <th></th>\n",
       "      <th>cluster</th>\n",
       "      <th>cost</th>\n",
       "      <th>silhouette_score</th>\n",
       "    </tr>\n",
       "  </thead>\n",
       "  <tbody>\n",
       "    <tr>\n",
       "      <th>0</th>\n",
       "      <td>2</td>\n",
       "      <td>1.007589e+11</td>\n",
       "      <td>0.993991</td>\n",
       "    </tr>\n",
       "    <tr>\n",
       "      <th>1</th>\n",
       "      <td>3</td>\n",
       "      <td>6.781246e+10</td>\n",
       "      <td>0.993733</td>\n",
       "    </tr>\n",
       "    <tr>\n",
       "      <th>2</th>\n",
       "      <td>4</td>\n",
       "      <td>4.974666e+10</td>\n",
       "      <td>0.987616</td>\n",
       "    </tr>\n",
       "    <tr>\n",
       "      <th>3</th>\n",
       "      <td>5</td>\n",
       "      <td>3.020390e+10</td>\n",
       "      <td>0.785008</td>\n",
       "    </tr>\n",
       "    <tr>\n",
       "      <th>4</th>\n",
       "      <td>6</td>\n",
       "      <td>2.015361e+10</td>\n",
       "      <td>0.685087</td>\n",
       "    </tr>\n",
       "    <tr>\n",
       "      <th>5</th>\n",
       "      <td>7</td>\n",
       "      <td>1.719920e+10</td>\n",
       "      <td>0.691826</td>\n",
       "    </tr>\n",
       "    <tr>\n",
       "      <th>6</th>\n",
       "      <td>8</td>\n",
       "      <td>1.511783e+10</td>\n",
       "      <td>0.685413</td>\n",
       "    </tr>\n",
       "    <tr>\n",
       "      <th>7</th>\n",
       "      <td>9</td>\n",
       "      <td>1.087302e+10</td>\n",
       "      <td>0.700327</td>\n",
       "    </tr>\n",
       "    <tr>\n",
       "      <th>8</th>\n",
       "      <td>10</td>\n",
       "      <td>8.321896e+09</td>\n",
       "      <td>0.674909</td>\n",
       "    </tr>\n",
       "    <tr>\n",
       "      <th>9</th>\n",
       "      <td>11</td>\n",
       "      <td>7.763562e+09</td>\n",
       "      <td>0.710722</td>\n",
       "    </tr>\n",
       "    <tr>\n",
       "      <th>10</th>\n",
       "      <td>12</td>\n",
       "      <td>5.943687e+09</td>\n",
       "      <td>0.704555</td>\n",
       "    </tr>\n",
       "    <tr>\n",
       "      <th>11</th>\n",
       "      <td>13</td>\n",
       "      <td>5.312780e+09</td>\n",
       "      <td>0.704179</td>\n",
       "    </tr>\n",
       "    <tr>\n",
       "      <th>12</th>\n",
       "      <td>14</td>\n",
       "      <td>4.317527e+09</td>\n",
       "      <td>0.708570</td>\n",
       "    </tr>\n",
       "  </tbody>\n",
       "</table>\n",
       "</div>"
      ],
      "text/plain": [
       "    cluster          cost  silhouette_score\n",
       "0         2  1.007589e+11          0.993991\n",
       "1         3  6.781246e+10          0.993733\n",
       "2         4  4.974666e+10          0.987616\n",
       "3         5  3.020390e+10          0.785008\n",
       "4         6  2.015361e+10          0.685087\n",
       "5         7  1.719920e+10          0.691826\n",
       "6         8  1.511783e+10          0.685413\n",
       "7         9  1.087302e+10          0.700327\n",
       "8        10  8.321896e+09          0.674909\n",
       "9        11  7.763562e+09          0.710722\n",
       "10       12  5.943687e+09          0.704555\n",
       "11       13  5.312780e+09          0.704179\n",
       "12       14  4.317527e+09          0.708570"
      ]
     },
     "execution_count": 9,
     "metadata": {},
     "output_type": "execute_result"
    }
   ],
   "source": [
    "df_eval"
   ]
  },
  {
   "cell_type": "markdown",
   "metadata": {},
   "source": [
    "### We choose k=4 based on the plots above"
   ]
  },
  {
   "cell_type": "code",
   "execution_count": 5,
   "metadata": {},
   "outputs": [],
   "source": [
    "kmeans = KMeans().setK(4).setFeaturesCol('features_pca')\n",
    "model = kmeans.fit(papers_meta_transformed)\n",
    "clusterdData = model.transform(papers_meta_transformed)"
   ]
  },
  {
   "cell_type": "markdown",
   "metadata": {},
   "source": [
    "## Step 7 Recommender System"
   ]
  },
  {
   "cell_type": "markdown",
   "metadata": {},
   "source": [
    "The goal here is to build a basic recommender the system that reccomends similar papers to a given title. When provided with a paper title, the recommender is only going to consider papers which belong to the same cluster. it will then run cosine similiraty between the given title and the processed paper titles in the database. it will return a dictionary with suggested paper titles and the cosine dot product with respect to the given title"
   ]
  },
  {
   "cell_type": "code",
   "execution_count": 6,
   "metadata": {},
   "outputs": [
    {
     "name": "stdout",
     "output_type": "stream",
     "text": [
      "+--------------------+--------------------+--------------------+--------------------+--------------------+---------+------------+-------------+--------------------+--------------------+-------------+-------------+-------------------+-------------------+--------------------+--------------------+----------+\n",
      "|            Paper_ID|               title|         title_clean|             authors|             journal|wordcount|publish_Year|publish_Month|       word2vec_body|      word2vec_title|authors_index|journal_index|    authors_encoded|    journal_encoded|            features|        features_pca|prediction|\n",
      "+--------------------+--------------------+--------------------+--------------------+--------------------+---------+------------+-------------+--------------------+--------------------+-------------+-------------+-------------------+-------------------+--------------------+--------------------+----------+\n",
      "|0782b4fb23ca65baf...|the population ge...|[population, gene...|Tibayrenc, Michel...|        Acta Tropica|     3686|        2015|           11|[0.02713752761508...|[0.01237550669466...|       4017.0|       2721.0|(8321,[4017],[1.0])|(2750,[2721],[1.0])|(11274,[0,1,2,3,4...|[-3692.4819062727...|         0|\n",
      "|14d8fd027f39c8311...|drug induced dela...|[drug, induced, d...|Klimas, Natasha; ...|Cutaneous Drug Er...|     2594|        2015|            5|[0.04067398937230...|[-0.0022071010898...|       6489.0|       1331.0|(8321,[6489],[1.0])|(2750,[1331],[1.0])|(11274,[0,1,2,3,4...|[-2600.4873834375...|         0|\n",
      "|1e5228e3f0658479a...|canonicalizing kn...|[canonicalizing, ...|Fatma, Nausheen; ...|Advances in Knowl...|     2101|        2020|            4|[0.06466745659127...|[0.00304986406117...|       4030.0|         40.0|(8321,[4030],[1.0])|  (2750,[40],[1.0])|(11274,[0,1,2,3,4...|[-2107.5060457725...|         0|\n",
      "|1e663ac169e08ea02...|the effects of a ...|[effects, celebri...|Yip, Paul S.F.; F...|Journal of Affect...|     1177|        2006|            7|[0.07743242526835...|[0.00422781358273...|       1147.0|       1477.0|(8321,[1147],[1.0])|(2750,[1477],[1.0])|(11274,[0,1,2,3,4...|[-1183.4657902211...|         0|\n",
      "|1f26b5e8291ea1ddc...|the case for labo...|[case, laboratory...|Kaul, Karen L.; S...|         Acad Pathol|     7361|        2017|            7|[0.03405737735745...|[0.03623301810067...|       8216.0|       1072.0|(8321,[8216],[1.0])|(2750,[1072],[1.0])|(11274,[0,1,2,3,4...|[-7367.4690924711...|         3|\n",
      "+--------------------+--------------------+--------------------+--------------------+--------------------+---------+------------+-------------+--------------------+--------------------+-------------+-------------+-------------------+-------------------+--------------------+--------------------+----------+\n",
      "only showing top 5 rows\n",
      "\n"
     ]
    }
   ],
   "source": [
    "paper_titles_df = spark.read\\\n",
    "            .format(\"parquet\")\\\n",
    "            .option(\"header\", \"true\")\\\n",
    "            .load(\"./Dataset/papers_meta_word2vec\").select('Paper_ID', 'title', 'title_clean')\n",
    "clusterdData = paper_titles_df.join(clusterdData, on=['Paper_ID'], how='inner')\n",
    "clusterdData.show(5)"
   ]
  },
  {
   "cell_type": "markdown",
   "metadata": {},
   "source": [
    "### We will pre-calculate tf and idf values and store them in a dataframe named data for our recommender system."
   ]
  },
  {
   "cell_type": "code",
   "execution_count": 7,
   "metadata": {},
   "outputs": [],
   "source": [
    "from pyspark.sql.functions import udf, col\n",
    "df_recommender = clusterdData.select('title', 'title_clean', col('prediction').alias('cluster'))\n",
    "from pyspark.ml.feature import HashingTF, IDF\n",
    "hashingTF = HashingTF(inputCol=\"title_clean\", outputCol=\"tf\")\n",
    "tf = hashingTF.transform(df_recommender)\n",
    "\n",
    "idf = IDF(inputCol=\"tf\", outputCol=\"idf_feature\").fit(tf)\n",
    "tfidf = idf.transform(tf)"
   ]
  },
  {
   "cell_type": "code",
   "execution_count": 8,
   "metadata": {},
   "outputs": [],
   "source": [
    "from pyspark.ml.feature import Normalizer\n",
    "normalizer = Normalizer(inputCol=\"idf_feature\", outputCol=\"norm\")\n",
    "data = normalizer.transform(tfidf)"
   ]
  },
  {
   "cell_type": "markdown",
   "metadata": {},
   "source": [
    "### We will define the recommendPaper function. it takes a paper title and returns N recommendations from the same cluster."
   ]
  },
  {
   "cell_type": "code",
   "execution_count": 9,
   "metadata": {},
   "outputs": [],
   "source": [
    "from pyspark.sql.types import DoubleType\n",
    "\n",
    "dot_udf = udf(lambda x,y: float(x.dot(y)), DoubleType())\n",
    "\n",
    "def recommendPaper(paper_title,N, data=data):\n",
    "    target_paper = data.filter(data['title'] == paper_title)\n",
    "    input_cluster = target_paper.select('cluster').collect()[0].cluster\n",
    "    data = data.filter(data['cluster'] == input_cluster)\n",
    "    recommendations = target_paper.alias(\"tearget_paper\").crossJoin(data.alias(\"right\"))\\\n",
    "        .select(col(\"tearget_paper.title\").alias(\"target_title\"), \n",
    "            col(\"right.title\").alias(\"recommended_title\"), \n",
    "            dot_udf(\"tearget_paper.norm\", \"right.norm\").alias(\"dot\"))\\\n",
    "        .sort(col(\"dot\").desc())\\\n",
    "        .limit(N+1)\n",
    "    return {reccomendation.recommended_title:reccomendation.dot for reccomendation in recommendations.collect()[1:]}"
   ]
  },
  {
   "cell_type": "code",
   "execution_count": 10,
   "metadata": {},
   "outputs": [
    {
     "data": {
      "text/plain": [
       "{'effect of the plasmid dna vaccination on macroscopic and microscopic damage caused by the experimental chronic trypanosoma cruzi infection in the canine model': 0.2633751212982291,\n",
       " 'ccr plays a critical role in the development of myocarditis and host protection in mice infected with trypanosoma cruzi': 0.2627314956954824,\n",
       " 'renin angiotensin system revisited': 0.23883130343223866,\n",
       " 'evolution of viruses': 0.1836250991049867}"
      ]
     },
     "execution_count": 10,
     "metadata": {},
     "output_type": "execute_result"
    }
   ],
   "source": [
    "recommendPaper('the population genetics of trypanosoma cruzi revisited in the light of the predominant clonal evolution model',4)"
   ]
  },
  {
   "cell_type": "code",
   "execution_count": 11,
   "metadata": {},
   "outputs": [
    {
     "data": {
      "text/plain": [
       "{'annual update in intensive care and emergency medicine annual update in intensive care and emergency medicine': 0.9999999999999997,\n",
       " 'annual update in intensive care and emergency medicine': 0.9999999999999997}"
      ]
     },
     "execution_count": 11,
     "metadata": {},
     "output_type": "execute_result"
    }
   ],
   "source": [
    "recommendPaper('annual update in intensive care and emergency medicine',2)"
   ]
  },
  {
   "cell_type": "code",
   "execution_count": 13,
   "metadata": {},
   "outputs": [
    {
     "data": {
      "text/plain": [
       "{'severe acute respiratory syndrome': 0.3645151517477996,\n",
       " 'severe acute respiratory syndrome sars ': 0.3332956079500218,\n",
       " 'a simple laboratory parameter facilitates early identification of covid patients': 0.3125342703495677}"
      ]
     },
     "execution_count": 13,
     "metadata": {},
     "output_type": "execute_result"
    }
   ],
   "source": [
    "recommendPaper('use of simple laboratory features to distinguish the early stage of severe acute respiratory syndrome from dengue fever',3)"
   ]
  },
  {
   "cell_type": "code",
   "execution_count": 14,
   "metadata": {},
   "outputs": [
    {
     "data": {
      "text/plain": [
       "{'hepatitis c virus rna replication': 0.5709986104132124,\n",
       " 'hepatitis e a disease of reemerging importance basic virology and epidemiology of hepatitis e virus recent developments in hepatitis e': 0.44891119168862215,\n",
       " 'glycyrrhizin as antiviral agent against hepatitis c virus': 0.4175231102580461,\n",
       " 'amantadine in treatment of chronic hepatitis c virus infection ': 0.4156410776595072,\n",
       " 'inhibition of hepatitis c virus replication by chloroquine targeting virus associated autophagy': 0.37790189679458763,\n",
       " 'towards a small animal model for hepatitis c': 0.37450913307191663,\n",
       " 'archives of virology mouse hepatitis virus nasoencephalopathy is dependent upon virus strain and host genotype': 0.3682394327277896,\n",
       " 'by mouse hepatitis virus type ': 0.35835528698460356,\n",
       " 'the role of type iii interferons in hepatitis c virus infection and therapy': 0.354883424906226,\n",
       " 'characterization of antibodies induced by vaccination with hepatitis c virus envelope glycoproteins': 0.3543678425480336}"
      ]
     },
     "execution_count": 14,
     "metadata": {},
     "output_type": "execute_result"
    }
   ],
   "source": [
    "recommendPaper('virology of hepatitis c virus',10)"
   ]
  }
 ],
 "metadata": {
  "kernelspec": {
   "display_name": "Python 3",
   "language": "python",
   "name": "python3"
  },
  "language_info": {
   "codemirror_mode": {
    "name": "ipython",
    "version": 3
   },
   "file_extension": ".py",
   "mimetype": "text/x-python",
   "name": "python",
   "nbconvert_exporter": "python",
   "pygments_lexer": "ipython3",
   "version": "3.8.5"
  }
 },
 "nbformat": 4,
 "nbformat_minor": 4
}
